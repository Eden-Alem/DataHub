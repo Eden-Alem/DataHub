{
 "cells": [
  {
   "cell_type": "code",
   "execution_count": null,
   "metadata": {},
   "outputs": [],
   "source": [
    "# To help businesses manage manufacturing and advertising costs of products\n",
    "# Dataset - Advertising cost incurred by businesses\n",
    "\n",
    "'''\n",
    "    TV: Advertising cost spent in dollars for advertising on TV;\n",
    "    Radio: Advertising cost spent in dollars for advertising on Radio;\n",
    "    Newspaper: Advertising cost spent in dollars for advertising on Newspaper;\n",
    "    Sales: Number of units sold;\n",
    "'''"
   ]
  }
 ],
 "metadata": {
  "language_info": {
   "name": "python"
  },
  "orig_nbformat": 4
 },
 "nbformat": 4,
 "nbformat_minor": 2
}
